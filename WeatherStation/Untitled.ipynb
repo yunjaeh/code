{
 "cells": [
  {
   "cell_type": "code",
   "execution_count": 87,
   "metadata": {},
   "outputs": [
    {
     "name": "stdout",
     "output_type": "stream",
     "text": [
      "Index(['Station_ID', 'Data_Timestamp', 'WS_AVG_MS', 'WS_AVG_KT', 'WS_AVG_KM',\n",
      "       'WS_MAX_MS', 'WS_MAX_KT', 'WS_MAX_KM', 'WD_AVG_DEG', 'WD_LO_DEG',\n",
      "       'WD_HI_DEG', 'QFE_MB', 'QFF_MB', 'TEMP_C', 'RH_%', 'DP_C', 'RAIN_MM',\n",
      "       'SOL_JM2', 'SOL_MJM2', 'SOIL_%'],\n",
      "      dtype='object')\n",
      "0 499 499\n",
      "<class 'list'>\n",
      "<class 'pandas.core.series.Series'>\n",
      "[Timestamp('2017-12-31 18:01:00'), Timestamp('2017-12-31 18:02:00'), Timestamp('2017-12-31 18:03:00'), Timestamp('2017-12-31 18:04:00'), Timestamp('2017-12-31 18:05:00'), Timestamp('2017-12-31 18:06:00'), Timestamp('2017-12-31 18:07:00'), Timestamp('2017-12-31 18:08:00'), Timestamp('2017-12-31 18:09:00'), Timestamp('2017-12-31 18:10:00'), Timestamp('2017-12-31 18:11:00'), Timestamp('2017-12-31 18:12:00'), Timestamp('2017-12-31 18:13:00'), Timestamp('2017-12-31 18:14:00'), Timestamp('2017-12-31 18:15:00'), Timestamp('2017-12-31 18:16:00'), Timestamp('2017-12-31 18:17:00'), Timestamp('2017-12-31 18:18:00'), Timestamp('2017-12-31 18:19:00'), Timestamp('2017-12-31 18:20:00'), Timestamp('2017-12-31 18:21:00'), Timestamp('2017-12-31 18:22:00'), Timestamp('2017-12-31 18:23:00'), Timestamp('2017-12-31 18:24:00'), Timestamp('2017-12-31 18:25:00'), Timestamp('2017-12-31 18:26:00'), Timestamp('2017-12-31 18:27:00'), Timestamp('2017-12-31 18:28:00'), Timestamp('2017-12-31 18:29:00'), Timestamp('2017-12-31 18:30:00'), Timestamp('2017-12-31 18:31:00'), Timestamp('2017-12-31 18:32:00'), Timestamp('2017-12-31 18:33:00'), Timestamp('2017-12-31 18:34:00'), Timestamp('2017-12-31 18:35:00'), Timestamp('2017-12-31 18:36:00'), Timestamp('2017-12-31 18:37:00'), Timestamp('2017-12-31 18:38:00'), Timestamp('2017-12-31 18:39:00'), Timestamp('2017-12-31 18:40:00'), Timestamp('2017-12-31 18:41:00'), Timestamp('2017-12-31 18:42:00'), Timestamp('2017-12-31 18:43:00'), Timestamp('2017-12-31 18:44:00'), Timestamp('2017-12-31 18:45:00'), Timestamp('2017-12-31 18:46:00'), Timestamp('2017-12-31 18:47:00'), Timestamp('2017-12-31 18:48:00'), Timestamp('2017-12-31 18:49:00'), Timestamp('2017-12-31 18:50:00'), Timestamp('2017-12-31 18:51:00'), Timestamp('2017-12-31 18:52:00'), Timestamp('2017-12-31 18:53:00'), Timestamp('2017-12-31 18:54:00'), Timestamp('2017-12-31 18:55:00'), Timestamp('2017-12-31 18:56:00'), Timestamp('2017-12-31 18:57:00'), Timestamp('2017-12-31 18:58:00'), Timestamp('2017-12-31 18:59:00'), Timestamp('2017-12-31 19:00:00'), Timestamp('2017-12-31 19:01:00'), Timestamp('2017-12-31 19:02:00'), Timestamp('2017-12-31 19:03:00'), Timestamp('2017-12-31 19:04:00'), Timestamp('2017-12-31 19:05:00'), Timestamp('2017-12-31 19:06:00'), Timestamp('2017-12-31 19:07:00'), Timestamp('2017-12-31 19:08:00'), Timestamp('2017-12-31 19:09:00'), Timestamp('2017-12-31 19:10:00'), Timestamp('2017-12-31 19:11:00'), Timestamp('2017-12-31 19:12:00'), Timestamp('2017-12-31 19:13:00'), Timestamp('2017-12-31 19:14:00'), Timestamp('2017-12-31 19:15:00'), Timestamp('2017-12-31 19:16:00'), Timestamp('2017-12-31 19:17:00'), Timestamp('2017-12-31 19:18:00'), Timestamp('2017-12-31 19:19:00'), Timestamp('2017-12-31 19:20:00'), Timestamp('2017-12-31 19:21:00'), Timestamp('2017-12-31 19:22:00'), Timestamp('2017-12-31 19:23:00'), Timestamp('2017-12-31 19:24:00'), Timestamp('2017-12-31 19:25:00'), Timestamp('2017-12-31 19:26:00'), Timestamp('2017-12-31 19:27:00'), Timestamp('2017-12-31 19:28:00'), Timestamp('2017-12-31 19:29:00'), Timestamp('2017-12-31 19:30:00'), Timestamp('2017-12-31 19:31:00'), Timestamp('2017-12-31 19:32:00'), Timestamp('2017-12-31 19:33:00'), Timestamp('2017-12-31 19:34:00'), Timestamp('2017-12-31 19:35:00'), Timestamp('2017-12-31 19:36:00'), Timestamp('2017-12-31 19:37:00'), Timestamp('2017-12-31 19:38:00'), Timestamp('2017-12-31 19:39:00'), Timestamp('2017-12-31 19:40:00'), Timestamp('2017-12-31 19:41:00'), Timestamp('2017-12-31 19:42:00'), Timestamp('2017-12-31 19:43:00'), Timestamp('2017-12-31 19:44:00'), Timestamp('2017-12-31 19:45:00'), Timestamp('2017-12-31 19:46:00'), Timestamp('2017-12-31 19:47:00'), Timestamp('2017-12-31 19:48:00'), Timestamp('2017-12-31 19:49:00'), Timestamp('2017-12-31 19:50:00'), Timestamp('2017-12-31 19:51:00'), Timestamp('2017-12-31 19:52:00'), Timestamp('2017-12-31 19:53:00'), Timestamp('2017-12-31 19:54:00'), Timestamp('2017-12-31 19:55:00'), Timestamp('2017-12-31 19:56:00'), Timestamp('2017-12-31 19:57:00'), Timestamp('2017-12-31 19:58:00'), Timestamp('2017-12-31 19:59:00'), Timestamp('2017-12-31 20:00:00'), Timestamp('2017-12-31 20:01:00'), Timestamp('2017-12-31 20:02:00'), Timestamp('2017-12-31 20:03:00'), Timestamp('2017-12-31 20:04:00'), Timestamp('2017-12-31 20:05:00'), Timestamp('2017-12-31 20:06:00'), Timestamp('2017-12-31 20:07:00'), Timestamp('2017-12-31 20:08:00'), Timestamp('2017-12-31 20:09:00'), Timestamp('2017-12-31 20:10:00'), Timestamp('2017-12-31 20:11:00'), Timestamp('2017-12-31 20:12:00'), Timestamp('2017-12-31 20:13:00'), Timestamp('2017-12-31 20:14:00'), Timestamp('2017-12-31 20:15:00'), Timestamp('2017-12-31 20:16:00'), Timestamp('2017-12-31 20:17:00'), Timestamp('2017-12-31 20:18:00'), Timestamp('2017-12-31 20:19:00'), Timestamp('2017-12-31 20:20:00'), Timestamp('2017-12-31 20:21:00'), Timestamp('2017-12-31 20:22:00'), Timestamp('2017-12-31 20:23:00'), Timestamp('2017-12-31 20:24:00'), Timestamp('2017-12-31 20:25:00'), Timestamp('2017-12-31 20:26:00'), Timestamp('2017-12-31 20:27:00'), Timestamp('2017-12-31 20:28:00'), Timestamp('2017-12-31 20:29:00'), Timestamp('2017-12-31 20:30:00'), Timestamp('2017-12-31 20:31:00'), Timestamp('2017-12-31 20:32:00'), Timestamp('2017-12-31 20:33:00'), Timestamp('2017-12-31 20:34:00'), Timestamp('2017-12-31 20:35:00'), Timestamp('2017-12-31 20:36:00'), Timestamp('2017-12-31 20:37:00'), Timestamp('2017-12-31 20:38:00'), Timestamp('2017-12-31 20:39:00'), Timestamp('2017-12-31 20:40:00'), Timestamp('2017-12-31 20:41:00'), Timestamp('2017-12-31 20:42:00'), Timestamp('2017-12-31 20:43:00'), Timestamp('2017-12-31 20:44:00'), Timestamp('2017-12-31 20:45:00'), Timestamp('2017-12-31 20:46:00'), Timestamp('2017-12-31 20:47:00'), Timestamp('2017-12-31 20:48:00'), Timestamp('2017-12-31 20:49:00'), Timestamp('2017-12-31 20:50:00'), Timestamp('2017-12-31 20:51:00'), Timestamp('2017-12-31 20:52:00'), Timestamp('2017-12-31 20:53:00'), Timestamp('2017-12-31 20:54:00'), Timestamp('2017-12-31 20:55:00'), Timestamp('2017-12-31 20:56:00'), Timestamp('2017-12-31 20:57:00'), Timestamp('2017-12-31 20:58:00'), Timestamp('2017-12-31 20:59:00'), Timestamp('2017-12-31 21:00:00'), Timestamp('2017-12-31 21:01:00'), Timestamp('2017-12-31 21:02:00'), Timestamp('2017-12-31 21:03:00'), Timestamp('2017-12-31 21:04:00'), Timestamp('2017-12-31 21:05:00'), Timestamp('2017-12-31 21:06:00'), Timestamp('2017-12-31 21:07:00'), Timestamp('2017-12-31 21:08:00'), Timestamp('2017-12-31 21:09:00'), Timestamp('2017-12-31 21:10:00'), Timestamp('2017-12-31 21:11:00'), Timestamp('2017-12-31 21:12:00'), Timestamp('2017-12-31 21:13:00'), Timestamp('2017-12-31 21:14:00'), Timestamp('2017-12-31 21:15:00'), Timestamp('2017-12-31 21:16:00'), Timestamp('2017-12-31 21:17:00'), Timestamp('2017-12-31 21:18:00'), Timestamp('2017-12-31 21:19:00'), Timestamp('2017-12-31 21:20:00'), Timestamp('2017-12-31 21:21:00'), Timestamp('2017-12-31 21:22:00'), Timestamp('2017-12-31 21:23:00'), Timestamp('2017-12-31 21:24:00'), Timestamp('2017-12-31 21:25:00'), Timestamp('2017-12-31 21:26:00'), Timestamp('2017-12-31 21:27:00'), Timestamp('2017-12-31 21:28:00'), Timestamp('2017-12-31 21:29:00'), Timestamp('2017-12-31 21:30:00'), Timestamp('2017-12-31 21:31:00'), Timestamp('2017-12-31 21:32:00'), Timestamp('2017-12-31 21:33:00'), Timestamp('2017-12-31 21:34:00'), Timestamp('2017-12-31 21:35:00'), Timestamp('2017-12-31 21:36:00'), Timestamp('2017-12-31 21:37:00'), Timestamp('2017-12-31 21:38:00'), Timestamp('2017-12-31 21:39:00'), Timestamp('2017-12-31 21:40:00'), Timestamp('2017-12-31 21:41:00'), Timestamp('2017-12-31 21:42:00'), Timestamp('2017-12-31 21:43:00'), Timestamp('2017-12-31 21:44:00'), Timestamp('2017-12-31 21:45:00'), Timestamp('2017-12-31 21:46:00'), Timestamp('2017-12-31 21:47:00'), Timestamp('2017-12-31 21:48:00'), Timestamp('2017-12-31 21:49:00'), Timestamp('2017-12-31 21:50:00'), Timestamp('2017-12-31 21:51:00'), Timestamp('2017-12-31 21:52:00'), Timestamp('2017-12-31 21:53:00'), Timestamp('2017-12-31 21:54:00'), Timestamp('2017-12-31 21:55:00'), Timestamp('2017-12-31 21:56:00'), Timestamp('2017-12-31 21:57:00'), Timestamp('2017-12-31 21:58:00'), Timestamp('2017-12-31 21:59:00'), Timestamp('2017-12-31 22:00:00'), Timestamp('2017-12-31 22:01:00'), Timestamp('2017-12-31 22:02:00'), Timestamp('2017-12-31 22:03:00'), Timestamp('2017-12-31 22:04:00'), Timestamp('2017-12-31 22:05:00'), Timestamp('2017-12-31 22:06:00'), Timestamp('2017-12-31 22:07:00'), Timestamp('2017-12-31 22:08:00'), Timestamp('2017-12-31 22:09:00'), Timestamp('2017-12-31 22:10:00'), Timestamp('2017-12-31 22:11:00'), Timestamp('2017-12-31 22:12:00'), Timestamp('2017-12-31 22:13:00'), Timestamp('2017-12-31 22:14:00'), Timestamp('2017-12-31 22:15:00'), Timestamp('2017-12-31 22:16:00'), Timestamp('2017-12-31 22:17:00'), Timestamp('2017-12-31 22:18:00'), Timestamp('2017-12-31 22:19:00'), Timestamp('2017-12-31 22:20:00'), Timestamp('2017-12-31 22:21:00'), Timestamp('2017-12-31 22:22:00'), Timestamp('2017-12-31 22:23:00'), Timestamp('2017-12-31 22:24:00'), Timestamp('2017-12-31 22:25:00'), Timestamp('2017-12-31 22:26:00'), Timestamp('2017-12-31 22:27:00'), Timestamp('2017-12-31 22:28:00'), Timestamp('2017-12-31 22:29:00'), Timestamp('2017-12-31 22:30:00'), Timestamp('2017-12-31 22:31:00'), Timestamp('2017-12-31 22:32:00'), Timestamp('2017-12-31 22:33:00'), Timestamp('2017-12-31 22:34:00'), Timestamp('2017-12-31 22:35:00'), Timestamp('2017-12-31 22:36:00'), Timestamp('2017-12-31 22:37:00'), Timestamp('2017-12-31 22:38:00'), Timestamp('2017-12-31 22:39:00'), Timestamp('2017-12-31 22:40:00'), Timestamp('2017-12-31 22:41:00'), Timestamp('2017-12-31 22:42:00'), Timestamp('2017-12-31 22:43:00'), Timestamp('2017-12-31 22:44:00'), Timestamp('2017-12-31 22:45:00'), Timestamp('2017-12-31 22:46:00'), Timestamp('2017-12-31 22:47:00'), Timestamp('2017-12-31 22:48:00'), Timestamp('2017-12-31 22:49:00'), Timestamp('2017-12-31 22:50:00'), Timestamp('2017-12-31 22:51:00'), Timestamp('2017-12-31 22:52:00'), Timestamp('2017-12-31 22:53:00'), Timestamp('2017-12-31 22:54:00'), Timestamp('2017-12-31 22:55:00'), Timestamp('2017-12-31 22:56:00'), Timestamp('2017-12-31 22:57:00'), Timestamp('2017-12-31 22:58:00'), Timestamp('2017-12-31 22:59:00'), Timestamp('2017-12-31 23:00:00'), Timestamp('2017-12-31 23:01:00'), Timestamp('2017-12-31 23:02:00'), Timestamp('2017-12-31 23:03:00'), Timestamp('2017-12-31 23:04:00'), Timestamp('2017-12-31 23:05:00'), Timestamp('2017-12-31 23:06:00'), Timestamp('2017-12-31 23:07:00'), Timestamp('2017-12-31 23:08:00'), Timestamp('2017-12-31 23:09:00'), Timestamp('2017-12-31 23:10:00'), Timestamp('2017-12-31 23:11:00'), Timestamp('2017-12-31 23:12:00'), Timestamp('2017-12-31 23:13:00'), Timestamp('2017-12-31 23:14:00'), Timestamp('2017-12-31 23:15:00'), Timestamp('2017-12-31 23:16:00'), Timestamp('2017-12-31 23:17:00'), Timestamp('2017-12-31 23:18:00'), Timestamp('2017-12-31 23:19:00'), Timestamp('2017-12-31 23:20:00'), Timestamp('2017-12-31 23:21:00'), Timestamp('2017-12-31 23:22:00'), Timestamp('2017-12-31 23:23:00'), Timestamp('2017-12-31 23:24:00'), Timestamp('2017-12-31 23:25:00'), Timestamp('2017-12-31 23:26:00'), Timestamp('2017-12-31 23:27:00'), Timestamp('2017-12-31 23:28:00'), Timestamp('2017-12-31 23:29:00'), Timestamp('2017-12-31 23:30:00'), Timestamp('2017-12-31 23:31:00'), Timestamp('2017-12-31 23:32:00'), Timestamp('2017-12-31 23:33:00'), Timestamp('2017-12-31 23:34:00'), Timestamp('2017-12-31 23:35:00'), Timestamp('2017-12-31 23:36:00'), Timestamp('2017-12-31 23:37:00'), Timestamp('2017-12-31 23:38:00'), Timestamp('2017-12-31 23:39:00'), Timestamp('2017-12-31 23:40:00'), Timestamp('2017-12-31 23:41:00'), Timestamp('2017-12-31 23:42:00'), Timestamp('2017-12-31 23:43:00'), Timestamp('2017-12-31 23:44:00'), Timestamp('2017-12-31 23:45:00'), Timestamp('2017-12-31 23:46:00'), Timestamp('2017-12-31 23:47:00'), Timestamp('2017-12-31 23:48:00'), Timestamp('2017-12-31 23:49:00'), Timestamp('2017-12-31 23:50:00'), Timestamp('2018-01-01 00:01:00'), Timestamp('2018-01-01 00:02:00'), Timestamp('2018-01-01 00:03:00'), Timestamp('2018-01-01 00:04:00'), Timestamp('2018-01-01 00:05:00'), Timestamp('2018-01-01 00:06:00'), Timestamp('2018-01-01 00:07:00'), Timestamp('2018-01-01 00:08:00'), Timestamp('2018-01-01 00:09:00'), Timestamp('2018-01-01 00:10:00'), Timestamp('2018-01-01 00:11:00'), Timestamp('2018-01-01 00:12:00'), Timestamp('2018-01-01 00:13:00'), Timestamp('2018-01-01 00:14:00'), Timestamp('2018-01-01 00:15:00'), Timestamp('2018-01-01 00:16:00'), Timestamp('2018-01-01 00:17:00'), Timestamp('2018-01-01 00:18:00'), Timestamp('2018-01-01 00:19:00'), Timestamp('2018-01-01 00:20:00'), Timestamp('2018-01-01 00:21:00'), Timestamp('2018-01-01 00:22:00'), Timestamp('2018-01-01 00:23:00'), Timestamp('2018-01-01 00:24:00'), Timestamp('2018-01-01 00:25:00'), Timestamp('2018-01-01 00:26:00'), Timestamp('2018-01-01 00:27:00'), Timestamp('2018-01-01 00:28:00'), Timestamp('2018-01-01 00:29:00'), Timestamp('2018-01-01 00:30:00'), Timestamp('2018-01-01 00:31:00'), Timestamp('2018-01-01 00:32:00'), Timestamp('2018-01-01 00:33:00'), Timestamp('2018-01-01 00:34:00'), Timestamp('2018-01-01 00:35:00'), Timestamp('2018-01-01 00:36:00'), Timestamp('2018-01-01 00:37:00'), Timestamp('2018-01-01 00:38:00'), Timestamp('2018-01-01 00:39:00'), Timestamp('2018-01-01 00:40:00'), Timestamp('2018-01-01 00:41:00'), Timestamp('2018-01-01 00:42:00'), Timestamp('2018-01-01 00:43:00'), Timestamp('2018-01-01 00:44:00'), Timestamp('2018-01-01 00:45:00'), Timestamp('2018-01-01 00:46:00'), Timestamp('2018-01-01 00:47:00'), Timestamp('2018-01-01 00:48:00'), Timestamp('2018-01-01 00:49:00'), Timestamp('2018-01-01 00:50:00'), Timestamp('2018-01-01 00:51:00'), Timestamp('2018-01-01 00:52:00'), Timestamp('2018-01-01 00:53:00'), Timestamp('2018-01-01 00:54:00'), Timestamp('2018-01-01 00:55:00'), Timestamp('2018-01-01 00:56:00'), Timestamp('2018-01-01 00:57:00'), Timestamp('2018-01-01 00:58:00'), Timestamp('2018-01-01 00:59:00'), Timestamp('2018-01-01 01:00:00'), Timestamp('2018-01-01 01:01:00'), Timestamp('2018-01-01 01:02:00'), Timestamp('2018-01-01 01:03:00'), Timestamp('2018-01-01 01:04:00'), Timestamp('2018-01-01 01:05:00'), Timestamp('2018-01-01 01:06:00'), Timestamp('2018-01-01 01:07:00'), Timestamp('2018-01-01 01:08:00'), Timestamp('2018-01-01 01:09:00'), Timestamp('2018-01-01 01:10:00'), Timestamp('2018-01-01 01:11:00'), Timestamp('2018-01-01 01:12:00'), Timestamp('2018-01-01 01:13:00'), Timestamp('2018-01-01 01:14:00'), Timestamp('2018-01-01 01:15:00'), Timestamp('2018-01-01 01:16:00'), Timestamp('2018-01-01 01:17:00'), Timestamp('2018-01-01 01:18:00'), Timestamp('2018-01-01 01:19:00'), Timestamp('2018-01-01 01:20:00'), Timestamp('2018-01-01 01:21:00'), Timestamp('2018-01-01 01:22:00'), Timestamp('2018-01-01 01:23:00'), Timestamp('2018-01-01 01:24:00'), Timestamp('2018-01-01 01:25:00'), Timestamp('2018-01-01 01:26:00'), Timestamp('2018-01-01 01:27:00'), Timestamp('2018-01-01 01:28:00'), Timestamp('2018-01-01 01:29:00'), Timestamp('2018-01-01 01:30:00'), Timestamp('2018-01-01 01:31:00'), Timestamp('2018-01-01 01:32:00'), Timestamp('2018-01-01 01:33:00'), Timestamp('2018-01-01 01:34:00'), Timestamp('2018-01-01 01:35:00'), Timestamp('2018-01-01 01:36:00'), Timestamp('2018-01-01 01:37:00'), Timestamp('2018-01-01 01:38:00'), Timestamp('2018-01-01 01:39:00'), Timestamp('2018-01-01 01:40:00'), Timestamp('2018-01-01 01:41:00'), Timestamp('2018-01-01 01:42:00'), Timestamp('2018-01-01 01:43:00'), Timestamp('2018-01-01 01:44:00'), Timestamp('2018-01-01 01:45:00'), Timestamp('2018-01-01 01:46:00'), Timestamp('2018-01-01 01:47:00'), Timestamp('2018-01-01 01:48:00'), Timestamp('2018-01-01 01:49:00'), Timestamp('2018-01-01 01:50:00'), Timestamp('2018-01-01 01:51:00'), Timestamp('2018-01-01 01:52:00'), Timestamp('2018-01-01 01:53:00'), Timestamp('2018-01-01 01:54:00'), Timestamp('2018-01-01 01:55:00'), Timestamp('2018-01-01 01:56:00'), Timestamp('2018-01-01 01:57:00'), Timestamp('2018-01-01 01:58:00'), Timestamp('2018-01-01 01:59:00'), Timestamp('2018-01-01 02:00:00'), Timestamp('2018-01-01 02:01:00'), Timestamp('2018-01-01 02:02:00'), Timestamp('2018-01-01 02:03:00'), Timestamp('2018-01-01 02:04:00'), Timestamp('2018-01-01 02:05:00'), Timestamp('2018-01-01 02:06:00'), Timestamp('2018-01-01 02:07:00'), Timestamp('2018-01-01 02:08:00'), Timestamp('2018-01-01 02:09:00'), Timestamp('2018-01-01 02:10:00'), Timestamp('2018-01-01 02:11:00'), Timestamp('2018-01-01 02:12:00'), Timestamp('2018-01-01 02:13:00'), Timestamp('2018-01-01 02:14:00'), Timestamp('2018-01-01 02:15:00'), Timestamp('2018-01-01 02:16:00'), Timestamp('2018-01-01 02:17:00'), Timestamp('2018-01-01 02:18:00'), Timestamp('2018-01-01 02:19:00'), Timestamp('2018-01-01 02:20:00'), Timestamp('2018-01-01 02:21:00'), Timestamp('2018-01-01 02:22:00'), Timestamp('2018-01-01 02:23:00'), Timestamp('2018-01-01 02:24:00'), Timestamp('2018-01-01 02:25:00'), Timestamp('2018-01-01 02:26:00'), Timestamp('2018-01-01 02:27:00'), Timestamp('2018-01-01 02:28:00'), Timestamp('2018-01-01 02:29:00')]\n"
     ]
    }
   ],
   "source": [
    "import numpy as np\n",
    "import pandas as pd\n",
    "from datetime import datetime\n",
    "\n",
    "class Station():\n",
    "    \n",
    "    def __init__(self, fname):\n",
    "        self.fname = fname\n",
    "        self.Data = []\n",
    "        self.Attributes = []\n",
    "        \n",
    "        self.Time = []\n",
    "        self.Temperature = []\n",
    "        self.WindSpd = []\n",
    "        self.WindDir = []\n",
    "        self.Solar = []\n",
    "        self.RH = []\n",
    "    \n",
    "    def readData(self):\n",
    "        self.Data = pd.read_csv(self.fname,parse_dates=[1],header=0)\n",
    "        self.Data.columns = [c.replace(' ','_')for c in self.Data.columns]\n",
    "        \n",
    "        print(self.Data.columns)\n",
    "        \n",
    "        self.Time = self.Data.Data_Timestamp.tolist() # list\n",
    "        self.Temperature = self.Data.TEMP_C\n",
    "        self.WindSpd = self.Data.WS_AVG_MS\n",
    "        self.WindDir = self.Data.WD_AVG_DEG\n",
    "        \n",
    "        print(len(self.Time),len(self.Temperature),len(self.WindSpd))\n",
    "        print(type(self.Time))\n",
    "        print(type(self.WindSpd))\n",
    "        \n",
    "        \n",
    "        print(self.Time)\n",
    "#         for x in self.Data.Data_Timestamp:\n",
    "#             print(type(x))\n",
    "            \n",
    "            # self.Time.append(datetime.strptime(x, '%Y-%m-%d %h:%m:%s'))\n",
    "        #             print(self.Data.Data_Timestamp[i])\n",
    "#         print(self.Time[0])\n",
    "        \n",
    "        \n",
    "        \n",
    "\n",
    "    def time_average():\n",
    "        self.Data = []\n",
    "        \n",
    "        #with open(self.fname) as fp:\n",
    "         #   for line in fp:\n",
    "          #      print(line.split())\n",
    "\n",
    "\n",
    "Hazrat = Station('hazrat_test.csv')\n",
    "Hazrat.readData()"
   ]
  }
 ],
 "metadata": {
  "kernelspec": {
   "display_name": "Python 3",
   "language": "python",
   "name": "python3"
  },
  "language_info": {
   "codemirror_mode": {
    "name": "ipython",
    "version": 3
   },
   "file_extension": ".py",
   "mimetype": "text/x-python",
   "name": "python",
   "nbconvert_exporter": "python",
   "pygments_lexer": "ipython3",
   "version": "3.7.0"
  }
 },
 "nbformat": 4,
 "nbformat_minor": 2
}
